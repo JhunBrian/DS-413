{
 "cells": [
  {
   "cell_type": "markdown",
   "id": "7bae55b3-1408-490b-ad3e-164d3bb77be5",
   "metadata": {},
   "source": [
    "# Loading Saved Model Weights (Deployment)\n",
    "\n",
    "<p style=\"font-weight:bold\">DS-413 | 2023 First Semester</p>\n",
    "\n",
    "Instructor: Jhun Brian M. Andam \\\n",
    "Department of Data Science \\\n",
    "College of Information Technology and Computing \\\n",
    "University of Science and Technology of Southern Philippines\n",
    "\n",
    "- https://www.gradio.app/guides/building-a-pictionary-app"
   ]
  },
  {
   "cell_type": "code",
   "execution_count": 1,
   "id": "e96a380a-3759-442d-add7-6e2d0a073ca5",
   "metadata": {},
   "outputs": [],
   "source": [
    "import torch\n",
    "import torch.nn as nn\n",
    "import torch.nn.functional as F\n",
    "\n",
    "import numpy as np\n",
    "\n",
    "torch.backends.cudnn.deterministic=True\n",
    "torch.set_printoptions(sci_mode=False)\n",
    "\n",
    "import cv2\n",
    "import time"
   ]
  },
  {
   "cell_type": "code",
   "execution_count": 5,
   "id": "5a1c8e5c-88d9-43db-b59d-8617af4ba4ee",
   "metadata": {},
   "outputs": [],
   "source": [
    "class CNN(nn.Module):\n",
    "    def __init__(self):\n",
    "        super().__init__()\n",
    "        self.conv1 = nn.Conv2d(1, 32, (3,3), 1, 1)\n",
    "        self.pool1 = nn.MaxPool2d((2,2), 2)\n",
    "        self.conv2 = nn.Conv2d(32, 64, (3,3), 1, 1)\n",
    "        self.pool2 = nn.MaxPool2d((2,2), 2)\n",
    "        self.fcn1 = nn.Linear(64*7*7, 128)\n",
    "        self.fcn2 = nn.Linear(128, 10)\n",
    "\n",
    "    def forward(self, x):\n",
    "        x = F.relu(self.conv1(x))\n",
    "        x = self.pool1(x)\n",
    "        x = F.relu(self.conv2(x))\n",
    "        x = self.pool2(x)\n",
    "        x = x.view(-1, 64*7*7)\n",
    "        x = self.fcn1(x)\n",
    "        x = F.softmax(self.fcn2(x), dim=1)\n",
    "        \n",
    "        return x"
   ]
  },
  {
   "cell_type": "code",
   "execution_count": 6,
   "id": "a0db32a4-b312-418c-8474-cd3990a9d999",
   "metadata": {},
   "outputs": [
    {
     "data": {
      "text/plain": [
       "CNN(\n",
       "  (conv1): Conv2d(1, 32, kernel_size=(3, 3), stride=(1, 1), padding=(1, 1))\n",
       "  (pool1): MaxPool2d(kernel_size=(2, 2), stride=2, padding=0, dilation=1, ceil_mode=False)\n",
       "  (conv2): Conv2d(32, 64, kernel_size=(3, 3), stride=(1, 1), padding=(1, 1))\n",
       "  (pool2): MaxPool2d(kernel_size=(2, 2), stride=2, padding=0, dilation=1, ceil_mode=False)\n",
       "  (fcn1): Linear(in_features=3136, out_features=128, bias=True)\n",
       "  (fcn2): Linear(in_features=128, out_features=10, bias=True)\n",
       ")"
      ]
     },
     "execution_count": 6,
     "metadata": {},
     "output_type": "execute_result"
    }
   ],
   "source": [
    "model = CNN()\n",
    "model"
   ]
  },
  {
   "cell_type": "code",
   "execution_count": 7,
   "id": "a4eae99a-df23-47ea-b81f-0dae1f61e898",
   "metadata": {},
   "outputs": [
    {
     "data": {
      "text/plain": [
       "<All keys matched successfully>"
      ]
     },
     "execution_count": 7,
     "metadata": {},
     "output_type": "execute_result"
    }
   ],
   "source": [
    "model.load_state_dict(torch.load('model/best_CNN.pth'))"
   ]
  },
  {
   "cell_type": "code",
   "execution_count": 74,
   "id": "80c37cb2-ec15-41b8-a68f-589184f65542",
   "metadata": {},
   "outputs": [],
   "source": [
    "LABELS = list(range(0,10))\n",
    "def predict(img):\n",
    "    if img is None:\n",
    "        return {}\n",
    "        \n",
    "    x = torch.tensor(img, dtype=torch.float32).unsqueeze(0).unsqueeze(0) / 255.\n",
    "    with torch.no_grad():\n",
    "        out = model(x)\n",
    "    values, indices = torch.topk(out, 10)\n",
    "    values = values.view(-1)\n",
    "    indices = indices.view(-1)\n",
    "    confidences = {LABELS[i]: v.item() for i, v in zip(indices, values)}\n",
    "    return confidences"
   ]
  },
  {
   "cell_type": "code",
   "execution_count": 75,
   "id": "1b8ae043-d8be-4509-881b-742c2b23030b",
   "metadata": {},
   "outputs": [
    {
     "name": "stdout",
     "output_type": "stream",
     "text": [
      "Running on local URL:  http://127.0.0.1:7862\n",
      "\n",
      "Thanks for being a Gradio user! If you have questions or feedback, please join our Discord server and chat with us: https://discord.gg/feTf9x3ZSB\n",
      "\n",
      "To create a public link, set `share=True` in `launch()`.\n"
     ]
    },
    {
     "data": {
      "text/html": [
       "<div><iframe src=\"http://127.0.0.1:7862/\" width=\"100%\" height=\"500\" allow=\"autoplay; camera; microphone; clipboard-read; clipboard-write;\" frameborder=\"0\" allowfullscreen></iframe></div>"
      ],
      "text/plain": [
       "<IPython.core.display.HTML object>"
      ]
     },
     "metadata": {},
     "output_type": "display_data"
    },
    {
     "data": {
      "text/plain": []
     },
     "execution_count": 75,
     "metadata": {},
     "output_type": "execute_result"
    }
   ],
   "source": [
    "import gradio as gr\n",
    "\n",
    "gr.Interface(fn=predict,\n",
    "             inputs=\"sketchpad\",\n",
    "             outputs=\"label\",\n",
    "             live=True).launch()"
   ]
  },
  {
   "cell_type": "code",
   "execution_count": null,
   "id": "998781e9-fe9f-41b8-968b-2b5ce1a02d23",
   "metadata": {},
   "outputs": [],
   "source": []
  }
 ],
 "metadata": {
  "kernelspec": {
   "display_name": "Python 3 (ipykernel)",
   "language": "python",
   "name": "python3"
  },
  "language_info": {
   "codemirror_mode": {
    "name": "ipython",
    "version": 3
   },
   "file_extension": ".py",
   "mimetype": "text/x-python",
   "name": "python",
   "nbconvert_exporter": "python",
   "pygments_lexer": "ipython3",
   "version": "3.9.4"
  }
 },
 "nbformat": 4,
 "nbformat_minor": 5
}
