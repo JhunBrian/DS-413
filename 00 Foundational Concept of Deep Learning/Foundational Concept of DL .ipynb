{
 "cells": [
  {
   "cell_type": "markdown",
   "id": "464466a7-25c8-4728-b164-a5944db3155b",
   "metadata": {},
   "source": [
    "<h1 style=\"color:blue; font-weight: \"bold\";>Foundational Concept of Deep Learning</h1>\n",
    "<p style=\"font-weight:bold\">DS-413 | 2023 First Semester</p>\n",
    "\n",
    "Jhun Brian M. Andam \\\n",
    "Department of Data Science \\\n",
    "College of Information Technology and Computing \\\n",
    "University of Science and Technology of Southern Philippines"
   ]
  },
  {
   "cell_type": "markdown",
   "id": "ec7ee8c0-8c92-408d-9db0-4cff71681d9c",
   "metadata": {},
   "source": [
    "<h3 style=\"color:blue;\"><u>Types of Data Analytics</u></h3>\n",
    "<br></br>\n",
    "<center><img src = \"analytics.png\" width = \"400\" height = \"400\"></center>\n",
    "<i>https://www.ingelli.com/images/AdvancedAnalytics/Advanced_Analytics_diagram.png</i>"
   ]
  },
  {
   "cell_type": "markdown",
   "id": "497518ca-235e-45e8-aba6-ca1e31c04af8",
   "metadata": {},
   "source": [
    "Dr. Jake is a medical doctor and the CEO of Astro JR, a giant pharmaceutical company in the Philippines. To support the production and use of AstroJR's COVID19 vaccine, this company has implemented a number of business intelligence and data analytics tools. Your task is to provide the appropriate and necessary analytical questions Dr. Jake must ask his analytics team in order to provide better deployment and production of COVID19 vaccines around the world` using descriptive, predictive, and prescriptive analytics.\n",
    "\n",
    "<b>Descriptive:</b> How many infected cases since last week? \\\n",
    "<b>Diagnostic: </b> What factor affects the demand of AstroJR's COVID19 vaccine? \\\n",
    "<b>Predictive:</b> How many deaths next week? \\\n",
    "<b>Prescriptive:</b> If the number of cases will increase next week, how many hospital staff should be here to adequately treat the influx of patients?"
   ]
  },
  {
   "cell_type": "markdown",
   "id": "f4583712-6b72-4b4b-bf31-b306b0ce8e81",
   "metadata": {},
   "source": [
    "> **Artificial Intelligence (AI)** is categorized under **predictive analytics** because its primary purpose is to make predictions or forecasts based on historical data and patterns. Predictive analytics involves using data and statistical algorithms to make informed predictions about future events or outcomes. Machine learning techniques are a key component of predictive analytics because they excel at learning patterns and relationships in data, which can then be used to make predictions."
   ]
  },
  {
   "cell_type": "markdown",
   "id": "52c83866-dbfe-44a9-81c0-ddce4be5a765",
   "metadata": {},
   "source": [
    "<h3 style=\"color:blue;\"><u>Artificial Intelligence vs. Machine Learning vs. Deep Learning Data Science</u></h3>\n",
    "<br></br>\n",
    "<center><img src=\"comparison.png\" width=\"700\" height=\"300\"></center>\n",
    "\n",
    "<i>https://miro.medium.com/v2/resize:fit:1400/format:webp/1*RGdULySgEQQVHJTo0cA0jw.png</i>"
   ]
  },
  {
   "cell_type": "markdown",
   "id": "3a41e6bd-8c36-412c-972e-9ad7eecbc7c9",
   "metadata": {},
   "source": [
    "**Artificial Intelligence** is the broadest concept and encompasses the idea of creating machines or systems that can perform tasks that typically require human intelligence. This includes problem-solving, understanding natural language, recognizing patterns, and making decisions. AI can be achieved through various techniques, including ML and DL.\n",
    "\n",
    "**Machine Learning** is a subset of AI that focuses on the development of algorithms and statistical models that enable computers to learn from and make predictions or decisions based on data. ML doesn't require explicit programming for every task but relies on the algorithm's ability to improve its performance as it encounters more data.\n",
    "\n",
    "**Deep Learning** is a subfield of ML that deals specifically with artificial neural networks, which are composed of multiple layers of interconnected nodes (neurons). DL excels at handling unstructured data, such as images, audio, and text, and has been particularly successful in tasks like image recognition, natural language processing, and speech recognition.\n",
    "\n",
    "<center><img src = \"ml vs dl.png\" width=\"700\"></center>\n",
    "<i>https://miro.medium.com/v2/resize:fit:1400/format:webp/1*yV0i3UWUBE43SbrEvgBbYA.png</i>\n",
    "\n",
    "\n",
    "> In **traditional ML**, feature engineering is a **critical step**. Data scientists need to manually select, extract, and engineer relevant features from the data to feed into the machine learning model. The model's performance often depends on the quality of these engineered features. **Deep learning models can often bypass extensive feature engineering.** They can automatically learn relevant features directly from raw data, making them well-suited for tasks where feature extraction is challenging, such as image and speech recognition."
   ]
  },
  {
   "cell_type": "markdown",
   "id": "fb78cc83-7abe-4ef6-a28d-4937a86dcb4f",
   "metadata": {},
   "source": [
    "<h3 style=\"color:blue;\"><u>Machine Learning vs. Deep Learning</u></h3>\n",
    "\n",
    "<table>\n",
    "    <thead>\n",
    "        <th>Machine Learning</th>\n",
    "        <th>Deep Learning</th>\n",
    "    </thead>\n",
    "    <tr>\n",
    "        <td>Requires a small amount of training data.</td>\n",
    "        <td>Requires a large amount of training data.</td>\n",
    "    </tr>\n",
    "    <tr>\n",
    "        <td>Programmer has to manually identify the features that the system will use.</td>\n",
    "        <td>Machine automatically identifies the important features based on the training data.</td>\n",
    "    </tr>\n",
    "    <tr>\n",
    "        <td>In most cases, focus is on solving a particular problem.</td>\n",
    "        <td>In most cases, focus is on identifying patterns from the training dataset.</td>\n",
    "    </tr>\n",
    "    <tr>\n",
    "        <td>Problem is divided into parts and solved individually and then combined.</td>\n",
    "        <td>The entire processing takes place in an end-to-end manner.</td>\n",
    "    </tr>\n",
    "    <tr>\n",
    "        <td>The output result is easy to understand, since clear rules are provided.</td>\n",
    "        <td>The reasoning may be difficult to understand, since the system takes decision based on its own logic.</td>\n",
    "    </tr>\n",
    "    <tr>\n",
    "        <td>Training usually costs lesser time.</td>\n",
    "        <td>Training usually costs more time.</td>\n",
    "    </tr>\n",
    "    <tr>\n",
    "        <td>Works in low processing power.</td>\n",
    "        <td>Needs high processing power.</td>\n",
    "    </tr>\n",
    "    <tr>\n",
    "        <td>Machines can take decison on their own based on past data.</td>\n",
    "        <td>Machines take decisions with the help of  artificial neural networks.</td>\n",
    "    </tr>\n",
    "</table>\n",
    "\n",
    "<center><img src=\"interpret.png\" width=\"700\"></center>"
   ]
  },
  {
   "cell_type": "markdown",
   "id": "f189fbd1-4d25-4dbe-9b3f-da7cc46c26bf",
   "metadata": {},
   "source": [
    "<h3 style=\"color:blue;\"><u>Evolution of Deep Learning</u></h3>\n",
    "<center><img src=\"pioneers.jpeg\" width=\"300px\" height=\"300px\"></center>\n",
    "<p>Warren Sturgis McCulloch (1898 – 1969) neurophysiologist and logician and mathematician Walter Pitts (1923 – 1969) are best known for their influential paper in computing and neural network computing A Logical Calculus of Ideas Immanent in Nervous Activity (1943). They were the first to create a mathematical model of a neuron, inspired by the concept of a biological neuron. This led to the development of ever more sophisticated neuron and neural network models and their astounding success in artificial intelligence. </p>\n",
    "<br></br>\n",
    "<img src=\"ann vs n.png\" width=\"250\" align=\"left\">\n",
    "<br></br>\n",
    "Neural networks are computational models inspired by the intricate structure of the human brain. They consist of layers of interconnected artificial neurons that process and transform information. Just as the neurons in the brain communicate through synapses, these artificial neurons pass signals and weights between them, allowing neural networks to learn and make complex decisions. This bio-inspired architecture enables neural networks to excel in tasks such as image recognition, natural language processing, and pattern recognition, making them a foundational technology in the field of artificial intelligence.\n",
    "\r\n",
    "\r\n"
   ]
  },
  {
   "cell_type": "markdown",
   "id": "bccd11c1-dd94-463c-aad0-3c146d4eab3f",
   "metadata": {},
   "source": [
    "<h3 style=\"color:blue;\"><u>ML and DL Development Timeline</u></h3>\n",
    "<center><img src = \"timeline.png\" width=\"700\" alt=\"Timeline\"></center>\n",
    "\n",
    "<i>https://www.researchgate.net/figure/Timeline-of-the-development-of-deep-learning-and-commonly-used-machine-learning_fig1_323612444</i>.\r\n"
   ]
  },
  {
   "cell_type": "markdown",
   "id": "7c52e2f2-2d52-4d69-bc66-0c553099a6f4",
   "metadata": {},
   "source": [
    "<table>\n",
    "    <thead>\n",
    "        <th>Year</th>\n",
    "        <th>Development of AI (Deep Learning)</th>\n",
    "    </thead>\n",
    "    <tr>\n",
    "        <td>1940s</td>\n",
    "        <td><b>Shallow Neural Networks</b>, also known as feedforward neural networks or single-layer neural networks, are a type of artificial neural network with a limited number of layers between the input and output layers. These networks consist of an input layer, one or more hidden layers (though typically just one), and an output layer. However, in shallow networks, the information flows only in one direction, from the input layer to the output layer, without any feedback loops or complex connections.</td>\n",
    "    </tr>\n",
    "    <tr>\n",
    "        <td>1960s to 1970s</td>\n",
    "        <td>Seppo Linnainmaa publishes the general method for automatic differentiation (AD) of discrete connected networks of nested differentiable functions. This corresponds to the modern version of <b>backpropagation</b>, but is not yet named as such.</td>\n",
    "    </tr>\n",
    "    <tr>\n",
    "        <td>1980s</td>\n",
    "        <td>Linnainmaa's automatic differentiation lead to the application of Backpropagation in Neural Networks by early 1980s. David Rumelhart, along with Geoffrey Hinton and Ronald Williams, is often credited with popularizing backpropagation as a neural network training algorithm. Their influential 1986 paper, titled \"Learning Representations by Back-Propagating Errors,\" demonstrated the effectiveness of backpropagation in training multi-layer neural networks for a wide range of tasks. This work significantly contributed to the resurgence of interest in neural networks.</td>\n",
    "    </tr>\n",
    "    <tr>\n",
    "        <td>Late 1980s</td>\n",
    "        <td>AI's development stagnated.</td>\n",
    "    </tr>\n",
    "    <tr>\n",
    "        <td>2006</td>\n",
    "        <td>Geoffrey Hinton and his team introduced the concept of Deep Belief Networks, which combined multiple layers of RBMs to form a generative model with deep architecture. DBNs could capture hierarchical representations of data and learn features in an unsupervised manner. They showed that these networks could be fine-tuned with backpropagation for tasks like classification.</td>\n",
    "    </tr>\n",
    "    <tr>\n",
    "        <td>2009</td>\n",
    "        <td>The application of AI in different fields.</td>\n",
    "    </tr>\n",
    "    <tr>\n",
    "        <td>2012</td>\n",
    "        <td>Development of <b>AlexNet</b> architecture which was primarily designed by Alex Krizhevsky, published with Ilya Sutskever and Krizhevsky's doctoral advisor Geoffrey Hinton.</td>\n",
    "    </tr>\n",
    "    <tr>\n",
    "        <td>2014</td>\n",
    "        <td>Development of VGG, Generative Adversarial Networks, and GoogleNet</td>\n",
    "    </tr>\n",
    "    <tr>\n",
    "        <td>2015</td>\n",
    "        <td>Development of ResNet.</td>\n",
    "    </tr>\n",
    "    <tr>\n",
    "        <td>2016</td>\n",
    "        <td>Development of DenseNet.</td>\n",
    "    </tr>\n",
    "    <tr>\n",
    "        <td>2017</td>\n",
    "        <td>Development of Wasserstein GAN.</td>\n",
    "    </tr>\n",
    "</table>"
   ]
  },
  {
   "cell_type": "markdown",
   "id": "dd68f427-7aad-4012-a566-aa12aac29745",
   "metadata": {},
   "source": [
    "<h3 style=\"color:blue\"><u>Emerging Trends in Deep Learning</u></h3>\n",
    "\n",
    "1. **Federated Learning**\n",
    "2. **Generative Adversarial Network (GAN)**\n",
    "3. **Explainable AI (XAI)**\n",
    "4. **Reinforcement Learning**\n",
    "5. **Transfer Learning**\n",
    "6. **CIFDAQ and AI**\n",
    "\n",
    "<i>https://www.linkedin.com/pulse/5-emerging-trends-deep-learning-ai-watch-2023-cifdaq/</i>"
   ]
  },
  {
   "attachments": {},
   "cell_type": "markdown",
   "id": "c34d8206-defc-42b1-afb1-54f4f56e05fd",
   "metadata": {},
   "source": [
    "<h3 style=\"color:blue\"><u>Deep Learning Applications</u></h3>\n",
    "\n",
    "<ul>\n",
    "    <li><i><a href=\"https://quickdraw.withgoogle.com/\">Quickdraw With Google</a></i></li>\n",
    "    <li><i><a href=\"https://semiconductor.withgoogle.com\">Semiconductor With Google</a></i></li>\n",
    "    <li><i><a href=\"https://www.bing.com/create\">Bing AI Image Generator</a></i></li>\n",
    "</ul>"
   ]
  },
  {
   "cell_type": "markdown",
   "id": "4b98afc1-08af-46ed-be98-2f3eafb8d469",
   "metadata": {},
   "source": [
    "<center><img src=\"tools.png\" width=\"700\"></center>"
   ]
  },
  {
   "cell_type": "code",
   "execution_count": null,
   "id": "0f2b0e05-def8-4feb-aa11-dc4bf280867e",
   "metadata": {},
   "outputs": [],
   "source": []
  }
 ],
 "metadata": {
  "kernelspec": {
   "display_name": "Python 3 (ipykernel)",
   "language": "python",
   "name": "python3"
  },
  "language_info": {
   "codemirror_mode": {
    "name": "ipython",
    "version": 3
   },
   "file_extension": ".py",
   "mimetype": "text/x-python",
   "name": "python",
   "nbconvert_exporter": "python",
   "pygments_lexer": "ipython3",
   "version": "3.9.4"
  }
 },
 "nbformat": 4,
 "nbformat_minor": 5
}
